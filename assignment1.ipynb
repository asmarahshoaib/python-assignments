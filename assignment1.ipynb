{
 "cells": [
  {
   "cell_type": "code",
   "execution_count": 1,
   "metadata": {},
   "outputs": [
    {
     "name": "stdout",
     "output_type": "stream",
     "text": [
      "Twinkle,twinkle little star,\n",
      "  How I wonder what you are!\n",
      "   Up above the world so high\n",
      "   Like a diomand in the sky,\n",
      "Twinkle,twinkle little star,\n",
      " How I wonder what you are!\n"
     ]
    }
   ],
   "source": [
    "print(\"Twinkle,twinkle little star,\\n  How I wonder what you are!\\n   Up above the world so high\\n   Like a diomand in the sky,\\nTwinkle,twinkle little star,\\n How I wonder what you are!\")"
   ]
  },
  {
   "cell_type": "code",
   "execution_count": 2,
   "metadata": {},
   "outputs": [
    {
     "name": "stdout",
     "output_type": "stream",
     "text": [
      "3.7.4 (default, Aug  9 2019, 18:34:13) [MSC v.1915 64 bit (AMD64)]\n"
     ]
    }
   ],
   "source": [
    "import sys\n",
    "print(sys.version)"
   ]
  },
  {
   "cell_type": "code",
   "execution_count": 3,
   "metadata": {},
   "outputs": [
    {
     "name": "stdout",
     "output_type": "stream",
     "text": [
      "current datetime is: 2019-11-02 19:06:07.034810\n"
     ]
    }
   ],
   "source": [
    "from datetime import datetime\n",
    "now = datetime.now()\n",
    "print(\"current datetime is:\", now)"
   ]
  },
  {
   "cell_type": "code",
   "execution_count": 8,
   "metadata": {},
   "outputs": [
    {
     "name": "stdout",
     "output_type": "stream",
     "text": [
      "enter value of radius in cm:3\n",
      "area of  circle is: 28.278 cm\n"
     ]
    }
   ],
   "source": [
    "r= int(input(\"enter value of radius in cm:\"))\n",
    "a= 3.142 * r* r\n",
    "print(\"area of  circle is:\",a,\"cm\")\n"
   ]
  },
  {
   "cell_type": "code",
   "execution_count": 11,
   "metadata": {},
   "outputs": [
    {
     "name": "stdout",
     "output_type": "stream",
     "text": [
      "enter first name asmarah\n",
      "enter last name shoaib\n",
      "name:  shoaib asmarah\n"
     ]
    }
   ],
   "source": [
    "first_name=input(\"enter first name \")\n",
    "last_name=input(\"enter last name \")\n",
    "print(\"name: \",last_name + \" \" + first_name)\n"
   ]
  },
  {
   "cell_type": "code",
   "execution_count": 13,
   "metadata": {},
   "outputs": [
    {
     "name": "stdout",
     "output_type": "stream",
     "text": [
      "enter first number: 40\n",
      "enter second number: 75\n",
      "sum:  115\n"
     ]
    }
   ],
   "source": [
    "first_number=int(input(\"enter first number: \"))\n",
    "second_number=int(input(\"enter second number: \"))\n",
    "print(\"sum: \",first_number+second_number)"
   ]
  },
  {
   "cell_type": "code",
   "execution_count": null,
   "metadata": {},
   "outputs": [],
   "source": []
  }
 ],
 "metadata": {
  "kernelspec": {
   "display_name": "Python 3",
   "language": "python",
   "name": "python3"
  },
  "language_info": {
   "codemirror_mode": {
    "name": "ipython",
    "version": 3
   },
   "file_extension": ".py",
   "mimetype": "text/x-python",
   "name": "python",
   "nbconvert_exporter": "python",
   "pygments_lexer": "ipython3",
   "version": "3.7.4"
  }
 },
 "nbformat": 4,
 "nbformat_minor": 2
}
