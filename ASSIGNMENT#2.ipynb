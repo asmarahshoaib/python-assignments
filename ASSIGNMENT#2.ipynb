{
 "cells": [
  {
   "cell_type": "code",
   "execution_count": 12,
   "metadata": {},
   "outputs": [
    {
     "name": "stdout",
     "output_type": "stream",
     "text": [
      "enter obtained marks for each subject: 22 44 55 66 80\n",
      "enter max marks for each subject: 50 50 100 100 100\n",
      "PERCENTAGE IS: 66.75\n",
      "GRADE:B\n"
     ]
    }
   ],
   "source": [
    "#program which takes 5 inputs from user for different subject’s marks, total it and generate mark sheet using grades\n",
    "x=[int(x) for x in input(\"enter obtained marks for each subject: \").split()]\n",
    "y=[int(y) for y in input(\"enter max marks for each subject: \").split()]\n",
    "obtd=sum(x)\n",
    "maxmark=sum(y)\n",
    "per=(obtd/maxmark)*100\n",
    "print(\"PERCENTAGE IS:\",per)\n",
    "if per >=80 and per<=100:\n",
    "    print(\"GRADE:A+\")\n",
    "elif per>=70 and per<80:\n",
    "    print(\"GRADE:A\")\n",
    "elif per>=60 and per<70:\n",
    "    print(\"GRADE:B\")\n",
    "elif per>=50 and per<60:\n",
    "    print(\"GRADE:C\")\n",
    "elif per<50 and per>0:\n",
    "    print(\"GRADE:FAIL\")\n",
    "else :\n",
    "    print(\"GRADE:INVALID ATTEMPT\")\n",
    "    \n",
    "\n",
    "\n"
   ]
  },
  {
   "cell_type": "code",
   "execution_count": 6,
   "metadata": {},
   "outputs": [
    {
     "name": "stdout",
     "output_type": "stream",
     "text": [
      "enter number to check for even or odd:5\n",
      "ODD NUMBER\n"
     ]
    }
   ],
   "source": [
    "#program which take input from user and identify that the given number is even or odd?\n",
    "num=int(input(\"enter number to check for even or odd:\"))\n",
    "checknum=num % 2\n",
    "if checknum>0:\n",
    "    print(\"ODD NUMBER\")\n",
    "else :\n",
    "    print(\"EVEN NUMBER\")"
   ]
  },
  {
   "cell_type": "code",
   "execution_count": 11,
   "metadata": {},
   "outputs": [
    {
     "name": "stdout",
     "output_type": "stream",
     "text": [
      "5\n"
     ]
    }
   ],
   "source": [
    "#program to print the length of the list\n",
    "t=[1,5,6,\"run\",False]\n",
    "print(len(t))\n",
    "\n",
    "\n"
   ]
  },
  {
   "cell_type": "code",
   "execution_count": 16,
   "metadata": {},
   "outputs": [
    {
     "name": "stdout",
     "output_type": "stream",
     "text": [
      "1250\n"
     ]
    }
   ],
   "source": [
    "#Python program to sum all the numeric items in a list?\n",
    "x=[11,55,99,88,997]\n",
    "print(sum(x))\n"
   ]
  },
  {
   "cell_type": "code",
   "execution_count": 19,
   "metadata": {},
   "outputs": [
    {
     "name": "stdout",
     "output_type": "stream",
     "text": [
      "largest number is: 555\n"
     ]
    }
   ],
   "source": [
    "#Python program to get the largest number from a numeric list.\n",
    "x=[55,99,555,3,66,32]\n",
    "print(\"largest number is:\",max(x))"
   ]
  },
  {
   "cell_type": "code",
   "execution_count": 23,
   "metadata": {},
   "outputs": [
    {
     "name": "stdout",
     "output_type": "stream",
     "text": [
      "1\n",
      "2\n",
      "0\n",
      "3\n",
      "4\n"
     ]
    }
   ],
   "source": [
    "#write a program that prints out all the elements of the list that are less than 5.\n",
    "x=[5,7,33,1,2,7,9,0,3,4,6]\n",
    "for element in x:\n",
    "    if element<5:\n",
    "        print(element)\n",
    "    "
   ]
  },
  {
   "cell_type": "code",
   "execution_count": null,
   "metadata": {},
   "outputs": [],
   "source": []
  }
 ],
 "metadata": {
  "kernelspec": {
   "display_name": "Python 3",
   "language": "python",
   "name": "python3"
  },
  "language_info": {
   "codemirror_mode": {
    "name": "ipython",
    "version": 3
   },
   "file_extension": ".py",
   "mimetype": "text/x-python",
   "name": "python",
   "nbconvert_exporter": "python",
   "pygments_lexer": "ipython3",
   "version": "3.7.4"
  }
 },
 "nbformat": 4,
 "nbformat_minor": 2
}
