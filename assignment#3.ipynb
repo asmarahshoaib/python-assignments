{
 "cells": [
  {
   "cell_type": "code",
   "execution_count": 4,
   "metadata": {},
   "outputs": [
    {
     "name": "stdout",
     "output_type": "stream",
     "text": [
      "enter two numbers:2 8\n",
      "sum: 10 \n",
      "subtract: -6 \n",
      "multiply: 16 \n",
      "division: 0.25 \n",
      "power: 256\n"
     ]
    }
   ],
   "source": [
    "#Make a calculator using Python with addition , subtraction , multiplication ,division and power.\n",
    "x=[int(x) for x in input (\"enter two numbers:\").split()]\n",
    "print(\"sum:\",x[0]+x[1],\"\\nsubtract:\",x[0]-x[1],\"\\nmultiply:\",x[0]*x[1],\"\\ndivision:\",x[0]/x[1],\"\\npower:\",x[0]**x[1])\n"
   ]
  },
  {
   "cell_type": "code",
   "execution_count": 60,
   "metadata": {},
   "outputs": [
    {
     "data": {
      "text/plain": [
       "True"
      ]
     },
     "execution_count": 60,
     "metadata": {},
     "output_type": "execute_result"
    }
   ],
   "source": [
    "#Write a program to check if there is any numeric value in list using for loop\n",
    "checklist=[\"we\",1,\"loy\",7]\n",
    "any(isinstance(n, int)for n in checklist)\n",
    "\n"
   ]
  },
  {
   "cell_type": "code",
   "execution_count": 30,
   "metadata": {},
   "outputs": [
    {
     "name": "stdout",
     "output_type": "stream",
     "text": [
      "{'name': 'sam', 'age': 5}\n",
      "{'name': 'sam', 'age': 5, 'class': 1}\n"
     ]
    }
   ],
   "source": [
    "#Write a Python script to add a key to a dictionary\n",
    "dic={\"name\":\"sam\",\"age\":5}\n",
    "print (dic)\n",
    "dic.update({\"class\":1})\n",
    "print (dic)"
   ]
  },
  {
   "cell_type": "code",
   "execution_count": 17,
   "metadata": {},
   "outputs": [
    {
     "name": "stdout",
     "output_type": "stream",
     "text": [
      "Sum : 454\n"
     ]
    }
   ],
   "source": [
    "#Write a Python program to sum all the numeric items in a dictionary\n",
    "dic={\"a\":300,\"b\":55,\"c\":99}\n",
    "def returnSum(dic):     \n",
    "     sum = 0\n",
    "     for i in dic: \n",
    "           sum = sum + dic[i]   \n",
    "     return sum\n",
    "print(\"Sum :\", returnSum(dic)) \n",
    "\n",
    "\n",
    "\n"
   ]
  },
  {
   "cell_type": "code",
   "execution_count": 59,
   "metadata": {},
   "outputs": [
    {
     "name": "stdout",
     "output_type": "stream",
     "text": [
      "unduplicated values are: {1, 2, 3, 4, 7, 9}\n"
     ]
    }
   ],
   "source": [
    "#Write a program to identify duplicate values from list\n",
    "a=[1,2,3,4,2,3,7,9]\n",
    "b=set(a)\n",
    "print(\"unduplicated values are:\",b)\n",
    " \n",
    "    \n",
    "    \n",
    " "
   ]
  },
  {
   "cell_type": "code",
   "execution_count": 53,
   "metadata": {},
   "outputs": [
    {
     "name": "stdout",
     "output_type": "stream",
     "text": [
      "Key already existed in the dictionary\n",
      "Key not existed in the dictionary\n"
     ]
    }
   ],
   "source": [
    "#Write a Python script to check if a given key already exists in a dictionary\n",
    "dic = {1: 10, 2: 20, 3: 30, 4: 40, 5: 50, 6: 60}\n",
    "def checkkey(x):\n",
    "  if x in d:\n",
    "      print('Key already existed in the dictionary')\n",
    "  else:\n",
    "      print('Key not existed in the dictionary')\n",
    "checkkey(5)\n",
    "checkkey(9)"
   ]
  },
  {
   "cell_type": "code",
   "execution_count": null,
   "metadata": {},
   "outputs": [],
   "source": []
  }
 ],
 "metadata": {
  "kernelspec": {
   "display_name": "Python 3",
   "language": "python",
   "name": "python3"
  },
  "language_info": {
   "codemirror_mode": {
    "name": "ipython",
    "version": 3
   },
   "file_extension": ".py",
   "mimetype": "text/x-python",
   "name": "python",
   "nbconvert_exporter": "python",
   "pygments_lexer": "ipython3",
   "version": "3.7.4"
  }
 },
 "nbformat": 4,
 "nbformat_minor": 2
}
